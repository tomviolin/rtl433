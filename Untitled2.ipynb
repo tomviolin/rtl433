{
 "cells": [
  {
   "cell_type": "code",
   "execution_count": null,
   "id": "5b2ac000-695d-4202-9030-a3e6398c30f4",
   "metadata": {},
   "outputs": [
    {
     "name": "stderr",
     "output_type": "stream",
     "text": [
      "error: \u001b[0;1;31m\u001b[1mExpression [1]:1:1: \u001b[0m\u001b[1muse of unknown declaration 'ls'\n",
      "\u001b[0mls\n",
      "\u001b[0;1;32m^~\n",
      "\u001b[0m\u001b[0m\n",
      "expression failed to parse (no further compiler diagnostics)"
     ]
    }
   ],
   "source": [
    "ls"
   ]
  },
  {
   "cell_type": "code",
   "execution_count": null,
   "id": "6b759456-31fc-4209-b2ba-85df2e48c0a8",
   "metadata": {},
   "outputs": [],
   "source": []
  }
 ],
 "metadata": {
  "kernelspec": {
   "display_name": "Mojo",
   "language": "mojo",
   "name": "mojo-jupyter-kernel"
  },
  "language_info": {
   "codemirror_mode": {
    "name": "mojo"
   },
   "file_extension": ".mojo",
   "mimetype": "text/x-mojo",
   "name": "mojo"
  }
 },
 "nbformat": 4,
 "nbformat_minor": 5
}
